{
 "metadata": {
  "language_info": {
   "codemirror_mode": {
    "name": "ipython",
    "version": 3
   },
   "file_extension": ".py",
   "mimetype": "text/x-python",
   "name": "python",
   "nbconvert_exporter": "python",
   "pygments_lexer": "ipython3",
   "version": "3.8.2-final"
  },
  "orig_nbformat": 2,
  "kernelspec": {
   "name": "python_defaultSpec_1599915099269",
   "display_name": "Python 3.8.2 64-bit"
  }
 },
 "nbformat": 4,
 "nbformat_minor": 2,
 "cells": [
  {
   "cell_type": "code",
   "execution_count": null,
   "metadata": {
    "tags": []
   },
   "outputs": [],
   "source": [
    "%matplotlib inline\n",
    "from fitting_module import Fit, Plot\n",
    "\n",
    "if __name__ == \"__main__\":\n",
    "    # Read CSV data\n",
    "    filename = 'V200309B'\n",
    "\n",
    "    #初期パラメーターのリスト[amp,ctr,wid]\n",
    "    guess = [[2500, 950, 20]]\n",
    "    #guess.append([1100, 980, 30])\n",
    "    guess.append([500, 1250, 100])\n",
    "    background = 1  #バックグラウンドの初期値\n",
    "    bounds = ((),())\n",
    "    #bounds = ((3000,940,0, 0, 960, 0, 500,1160,0,0),(5000,970,40, 1500, 1200, 100, 900,1200,200,100))\n",
    "\n",
    "    res = Fit(filename, guess, bounds, background)  #フィッティング実行\n",
    "    res.to_csv(1)                           #プロットをcsvに保存\n",
    "    res.save_parameter(1)                   #フィッティングパラメーターをcsvに保存\n",
    "\n",
    "    fig = Plot(res)                         #フィッティングのプロット\n",
    "    fig.save(1)                             #図の保存\n"
   ]
  }
 ]
}